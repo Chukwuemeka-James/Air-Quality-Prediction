{
 "cells": [
  {
   "cell_type": "markdown",
   "id": "intensive-indie",
   "metadata": {
    "papermill": {
     "duration": 0.012307,
     "end_time": "2021-04-02T22:12:39.831815",
     "exception": false,
     "start_time": "2021-04-02T22:12:39.819508",
     "status": "completed"
    },
    "tags": []
   },
   "source": [
    "# Task for Today  \n",
    "\n",
    "***\n",
    "\n",
    "## Air Quality Prediction  \n",
    "  \n",
    "Given *data collected from air quality sensors*, let's try to predict the **air quality** in a given room.  \n",
    "  \n",
    "We will use a random forest regression model to make our predictions."
   ]
  },
  {
   "cell_type": "markdown",
   "id": "capable-bulgaria",
   "metadata": {
    "papermill": {
     "duration": 0.010917,
     "end_time": "2021-04-02T22:12:39.854180",
     "exception": false,
     "start_time": "2021-04-02T22:12:39.843263",
     "status": "completed"
    },
    "tags": []
   },
   "source": [
    "# Getting Started"
   ]
  },
  {
   "cell_type": "code",
   "execution_count": 1,
   "id": "spiritual-florist",
   "metadata": {
    "execution": {
     "iopub.execute_input": "2021-04-02T22:12:39.884352Z",
     "iopub.status.busy": "2021-04-02T22:12:39.883692Z",
     "iopub.status.idle": "2021-04-02T22:12:50.265687Z",
     "shell.execute_reply": "2021-04-02T22:12:50.265014Z"
    },
    "papermill": {
     "duration": 10.40049,
     "end_time": "2021-04-02T22:12:50.265857",
     "exception": false,
     "start_time": "2021-04-02T22:12:39.865367",
     "status": "completed"
    },
    "tags": []
   },
   "outputs": [],
   "source": [
    "import numpy as np\n",
    "import pandas as pd\n",
    "\n",
    "from sklearn.model_selection import train_test_split\n",
    "\n",
    "from sklearn.ensemble import RandomForestClassifier\n",
    "\n",
    "import shap"
   ]
  },
  {
   "cell_type": "code",
   "execution_count": 2,
   "id": "acting-mobile",
   "metadata": {
    "execution": {
     "iopub.execute_input": "2021-04-02T22:12:50.292324Z",
     "iopub.status.busy": "2021-04-02T22:12:50.291653Z",
     "iopub.status.idle": "2021-04-02T22:12:50.320395Z",
     "shell.execute_reply": "2021-04-02T22:12:50.319695Z"
    },
    "papermill": {
     "duration": 0.042877,
     "end_time": "2021-04-02T22:12:50.320534",
     "exception": false,
     "start_time": "2021-04-02T22:12:50.277657",
     "status": "completed"
    },
    "tags": []
   },
   "outputs": [],
   "source": [
    "data = pd.read_csv('../input/adl-classification/dataset.csv', names=['MQ1', 'MQ2', 'MQ3', 'MQ4', 'MQ5', 'MQ6', 'CO2'])"
   ]
  },
  {
   "cell_type": "code",
   "execution_count": 3,
   "id": "divided-abraham",
   "metadata": {
    "execution": {
     "iopub.execute_input": "2021-04-02T22:12:50.359464Z",
     "iopub.status.busy": "2021-04-02T22:12:50.358764Z",
     "iopub.status.idle": "2021-04-02T22:12:50.381239Z",
     "shell.execute_reply": "2021-04-02T22:12:50.380601Z"
    },
    "papermill": {
     "duration": 0.049298,
     "end_time": "2021-04-02T22:12:50.381394",
     "exception": false,
     "start_time": "2021-04-02T22:12:50.332096",
     "status": "completed"
    },
    "tags": []
   },
   "outputs": [
    {
     "data": {
      "text/html": [
       "<div>\n",
       "<style scoped>\n",
       "    .dataframe tbody tr th:only-of-type {\n",
       "        vertical-align: middle;\n",
       "    }\n",
       "\n",
       "    .dataframe tbody tr th {\n",
       "        vertical-align: top;\n",
       "    }\n",
       "\n",
       "    .dataframe thead th {\n",
       "        text-align: right;\n",
       "    }\n",
       "</style>\n",
       "<table border=\"1\" class=\"dataframe\">\n",
       "  <thead>\n",
       "    <tr style=\"text-align: right;\">\n",
       "      <th></th>\n",
       "      <th>MQ1</th>\n",
       "      <th>MQ2</th>\n",
       "      <th>MQ3</th>\n",
       "      <th>MQ4</th>\n",
       "      <th>MQ5</th>\n",
       "      <th>MQ6</th>\n",
       "      <th>CO2</th>\n",
       "    </tr>\n",
       "  </thead>\n",
       "  <tbody>\n",
       "    <tr>\n",
       "      <th>0</th>\n",
       "      <td>670</td>\n",
       "      <td>696</td>\n",
       "      <td>1252</td>\n",
       "      <td>1720</td>\n",
       "      <td>1321</td>\n",
       "      <td>2431</td>\n",
       "      <td>4</td>\n",
       "    </tr>\n",
       "    <tr>\n",
       "      <th>1</th>\n",
       "      <td>641</td>\n",
       "      <td>674</td>\n",
       "      <td>1156</td>\n",
       "      <td>1652</td>\n",
       "      <td>1410</td>\n",
       "      <td>2433</td>\n",
       "      <td>4</td>\n",
       "    </tr>\n",
       "    <tr>\n",
       "      <th>2</th>\n",
       "      <td>642</td>\n",
       "      <td>646</td>\n",
       "      <td>1159</td>\n",
       "      <td>1643</td>\n",
       "      <td>1455</td>\n",
       "      <td>2361</td>\n",
       "      <td>4</td>\n",
       "    </tr>\n",
       "    <tr>\n",
       "      <th>3</th>\n",
       "      <td>640</td>\n",
       "      <td>590</td>\n",
       "      <td>1105</td>\n",
       "      <td>1608</td>\n",
       "      <td>1459</td>\n",
       "      <td>2427</td>\n",
       "      <td>4</td>\n",
       "    </tr>\n",
       "    <tr>\n",
       "      <th>4</th>\n",
       "      <td>616</td>\n",
       "      <td>627</td>\n",
       "      <td>1192</td>\n",
       "      <td>1637</td>\n",
       "      <td>1466</td>\n",
       "      <td>2447</td>\n",
       "      <td>4</td>\n",
       "    </tr>\n",
       "    <tr>\n",
       "      <th>...</th>\n",
       "      <td>...</td>\n",
       "      <td>...</td>\n",
       "      <td>...</td>\n",
       "      <td>...</td>\n",
       "      <td>...</td>\n",
       "      <td>...</td>\n",
       "      <td>...</td>\n",
       "    </tr>\n",
       "    <tr>\n",
       "      <th>1840</th>\n",
       "      <td>862</td>\n",
       "      <td>826</td>\n",
       "      <td>1564</td>\n",
       "      <td>1768</td>\n",
       "      <td>1540</td>\n",
       "      <td>2037</td>\n",
       "      <td>4</td>\n",
       "    </tr>\n",
       "    <tr>\n",
       "      <th>1841</th>\n",
       "      <td>917</td>\n",
       "      <td>821</td>\n",
       "      <td>1571</td>\n",
       "      <td>1779</td>\n",
       "      <td>1543</td>\n",
       "      <td>2008</td>\n",
       "      <td>4</td>\n",
       "    </tr>\n",
       "    <tr>\n",
       "      <th>1842</th>\n",
       "      <td>925</td>\n",
       "      <td>832</td>\n",
       "      <td>1582</td>\n",
       "      <td>1776</td>\n",
       "      <td>1545</td>\n",
       "      <td>1989</td>\n",
       "      <td>4</td>\n",
       "    </tr>\n",
       "    <tr>\n",
       "      <th>1843</th>\n",
       "      <td>928</td>\n",
       "      <td>840</td>\n",
       "      <td>1587</td>\n",
       "      <td>1787</td>\n",
       "      <td>1538</td>\n",
       "      <td>1986</td>\n",
       "      <td>4</td>\n",
       "    </tr>\n",
       "    <tr>\n",
       "      <th>1844</th>\n",
       "      <td>926</td>\n",
       "      <td>840</td>\n",
       "      <td>1606</td>\n",
       "      <td>1785</td>\n",
       "      <td>1555</td>\n",
       "      <td>1996</td>\n",
       "      <td>4</td>\n",
       "    </tr>\n",
       "  </tbody>\n",
       "</table>\n",
       "<p>1845 rows × 7 columns</p>\n",
       "</div>"
      ],
      "text/plain": [
       "      MQ1  MQ2   MQ3   MQ4   MQ5   MQ6  CO2\n",
       "0     670  696  1252  1720  1321  2431    4\n",
       "1     641  674  1156  1652  1410  2433    4\n",
       "2     642  646  1159  1643  1455  2361    4\n",
       "3     640  590  1105  1608  1459  2427    4\n",
       "4     616  627  1192  1637  1466  2447    4\n",
       "...   ...  ...   ...   ...   ...   ...  ...\n",
       "1840  862  826  1564  1768  1540  2037    4\n",
       "1841  917  821  1571  1779  1543  2008    4\n",
       "1842  925  832  1582  1776  1545  1989    4\n",
       "1843  928  840  1587  1787  1538  1986    4\n",
       "1844  926  840  1606  1785  1555  1996    4\n",
       "\n",
       "[1845 rows x 7 columns]"
      ]
     },
     "execution_count": 3,
     "metadata": {},
     "output_type": "execute_result"
    }
   ],
   "source": [
    "data"
   ]
  },
  {
   "cell_type": "code",
   "execution_count": 4,
   "id": "perfect-providence",
   "metadata": {
    "execution": {
     "iopub.execute_input": "2021-04-02T22:12:50.409190Z",
     "iopub.status.busy": "2021-04-02T22:12:50.408559Z",
     "iopub.status.idle": "2021-04-02T22:12:50.427191Z",
     "shell.execute_reply": "2021-04-02T22:12:50.426424Z"
    },
    "papermill": {
     "duration": 0.033569,
     "end_time": "2021-04-02T22:12:50.427385",
     "exception": false,
     "start_time": "2021-04-02T22:12:50.393816",
     "status": "completed"
    },
    "tags": []
   },
   "outputs": [
    {
     "name": "stdout",
     "output_type": "stream",
     "text": [
      "<class 'pandas.core.frame.DataFrame'>\n",
      "RangeIndex: 1845 entries, 0 to 1844\n",
      "Data columns (total 7 columns):\n",
      " #   Column  Non-Null Count  Dtype\n",
      "---  ------  --------------  -----\n",
      " 0   MQ1     1845 non-null   int64\n",
      " 1   MQ2     1845 non-null   int64\n",
      " 2   MQ3     1845 non-null   int64\n",
      " 3   MQ4     1845 non-null   int64\n",
      " 4   MQ5     1845 non-null   int64\n",
      " 5   MQ6     1845 non-null   int64\n",
      " 6   CO2     1845 non-null   int64\n",
      "dtypes: int64(7)\n",
      "memory usage: 101.0 KB\n"
     ]
    }
   ],
   "source": [
    "data.info()"
   ]
  },
  {
   "cell_type": "markdown",
   "id": "surrounded-detection",
   "metadata": {
    "papermill": {
     "duration": 0.012202,
     "end_time": "2021-04-02T22:12:50.452821",
     "exception": false,
     "start_time": "2021-04-02T22:12:50.440619",
     "status": "completed"
    },
    "tags": []
   },
   "source": [
    "# Preprocessing"
   ]
  },
  {
   "cell_type": "code",
   "execution_count": 5,
   "id": "filled-protein",
   "metadata": {
    "execution": {
     "iopub.execute_input": "2021-04-02T22:12:50.486328Z",
     "iopub.status.busy": "2021-04-02T22:12:50.485402Z",
     "iopub.status.idle": "2021-04-02T22:12:50.488757Z",
     "shell.execute_reply": "2021-04-02T22:12:50.488106Z"
    },
    "papermill": {
     "duration": 0.022223,
     "end_time": "2021-04-02T22:12:50.488910",
     "exception": false,
     "start_time": "2021-04-02T22:12:50.466687",
     "status": "completed"
    },
    "tags": []
   },
   "outputs": [],
   "source": [
    "def preprocess_inputs(df):\n",
    "    df = df.copy()\n",
    "    \n",
    "    # Split df into X and y\n",
    "    y = df['CO2']\n",
    "    X = df.drop('CO2', axis=1)\n",
    "    \n",
    "    # Train-test split\n",
    "    X_train, X_test, y_train, y_test = train_test_split(X, y, train_size=0.7, shuffle=True, random_state=1)\n",
    "    \n",
    "    return X_train, X_test, y_train, y_test"
   ]
  },
  {
   "cell_type": "code",
   "execution_count": 6,
   "id": "hindu-whole",
   "metadata": {
    "execution": {
     "iopub.execute_input": "2021-04-02T22:12:50.522814Z",
     "iopub.status.busy": "2021-04-02T22:12:50.520930Z",
     "iopub.status.idle": "2021-04-02T22:12:50.526943Z",
     "shell.execute_reply": "2021-04-02T22:12:50.525815Z"
    },
    "papermill": {
     "duration": 0.025313,
     "end_time": "2021-04-02T22:12:50.527107",
     "exception": false,
     "start_time": "2021-04-02T22:12:50.501794",
     "status": "completed"
    },
    "tags": []
   },
   "outputs": [],
   "source": [
    "X_train, X_test, y_train, y_test = preprocess_inputs(data)"
   ]
  },
  {
   "cell_type": "code",
   "execution_count": 7,
   "id": "planned-floating",
   "metadata": {
    "execution": {
     "iopub.execute_input": "2021-04-02T22:12:50.566558Z",
     "iopub.status.busy": "2021-04-02T22:12:50.565535Z",
     "iopub.status.idle": "2021-04-02T22:12:50.570149Z",
     "shell.execute_reply": "2021-04-02T22:12:50.569637Z"
    },
    "papermill": {
     "duration": 0.030399,
     "end_time": "2021-04-02T22:12:50.570288",
     "exception": false,
     "start_time": "2021-04-02T22:12:50.539889",
     "status": "completed"
    },
    "tags": []
   },
   "outputs": [
    {
     "data": {
      "text/html": [
       "<div>\n",
       "<style scoped>\n",
       "    .dataframe tbody tr th:only-of-type {\n",
       "        vertical-align: middle;\n",
       "    }\n",
       "\n",
       "    .dataframe tbody tr th {\n",
       "        vertical-align: top;\n",
       "    }\n",
       "\n",
       "    .dataframe thead th {\n",
       "        text-align: right;\n",
       "    }\n",
       "</style>\n",
       "<table border=\"1\" class=\"dataframe\">\n",
       "  <thead>\n",
       "    <tr style=\"text-align: right;\">\n",
       "      <th></th>\n",
       "      <th>MQ1</th>\n",
       "      <th>MQ2</th>\n",
       "      <th>MQ3</th>\n",
       "      <th>MQ4</th>\n",
       "      <th>MQ5</th>\n",
       "      <th>MQ6</th>\n",
       "    </tr>\n",
       "  </thead>\n",
       "  <tbody>\n",
       "    <tr>\n",
       "      <th>1695</th>\n",
       "      <td>551</td>\n",
       "      <td>650</td>\n",
       "      <td>1285</td>\n",
       "      <td>1643</td>\n",
       "      <td>1150</td>\n",
       "      <td>2160</td>\n",
       "    </tr>\n",
       "    <tr>\n",
       "      <th>427</th>\n",
       "      <td>624</td>\n",
       "      <td>682</td>\n",
       "      <td>1105</td>\n",
       "      <td>1661</td>\n",
       "      <td>1644</td>\n",
       "      <td>2518</td>\n",
       "    </tr>\n",
       "    <tr>\n",
       "      <th>289</th>\n",
       "      <td>485</td>\n",
       "      <td>553</td>\n",
       "      <td>1044</td>\n",
       "      <td>1563</td>\n",
       "      <td>1180</td>\n",
       "      <td>2523</td>\n",
       "    </tr>\n",
       "    <tr>\n",
       "      <th>529</th>\n",
       "      <td>440</td>\n",
       "      <td>520</td>\n",
       "      <td>932</td>\n",
       "      <td>1460</td>\n",
       "      <td>1154</td>\n",
       "      <td>2398</td>\n",
       "    </tr>\n",
       "    <tr>\n",
       "      <th>1443</th>\n",
       "      <td>622</td>\n",
       "      <td>688</td>\n",
       "      <td>1185</td>\n",
       "      <td>1689</td>\n",
       "      <td>1401</td>\n",
       "      <td>2283</td>\n",
       "    </tr>\n",
       "    <tr>\n",
       "      <th>...</th>\n",
       "      <td>...</td>\n",
       "      <td>...</td>\n",
       "      <td>...</td>\n",
       "      <td>...</td>\n",
       "      <td>...</td>\n",
       "      <td>...</td>\n",
       "    </tr>\n",
       "    <tr>\n",
       "      <th>905</th>\n",
       "      <td>591</td>\n",
       "      <td>689</td>\n",
       "      <td>1132</td>\n",
       "      <td>1652</td>\n",
       "      <td>1398</td>\n",
       "      <td>2279</td>\n",
       "    </tr>\n",
       "    <tr>\n",
       "      <th>1791</th>\n",
       "      <td>368</td>\n",
       "      <td>471</td>\n",
       "      <td>987</td>\n",
       "      <td>1446</td>\n",
       "      <td>883</td>\n",
       "      <td>2279</td>\n",
       "    </tr>\n",
       "    <tr>\n",
       "      <th>1096</th>\n",
       "      <td>370</td>\n",
       "      <td>478</td>\n",
       "      <td>884</td>\n",
       "      <td>1478</td>\n",
       "      <td>980</td>\n",
       "      <td>2234</td>\n",
       "    </tr>\n",
       "    <tr>\n",
       "      <th>235</th>\n",
       "      <td>380</td>\n",
       "      <td>410</td>\n",
       "      <td>860</td>\n",
       "      <td>1416</td>\n",
       "      <td>936</td>\n",
       "      <td>2215</td>\n",
       "    </tr>\n",
       "    <tr>\n",
       "      <th>1061</th>\n",
       "      <td>527</td>\n",
       "      <td>638</td>\n",
       "      <td>1111</td>\n",
       "      <td>1586</td>\n",
       "      <td>1289</td>\n",
       "      <td>2080</td>\n",
       "    </tr>\n",
       "  </tbody>\n",
       "</table>\n",
       "<p>1291 rows × 6 columns</p>\n",
       "</div>"
      ],
      "text/plain": [
       "      MQ1  MQ2   MQ3   MQ4   MQ5   MQ6\n",
       "1695  551  650  1285  1643  1150  2160\n",
       "427   624  682  1105  1661  1644  2518\n",
       "289   485  553  1044  1563  1180  2523\n",
       "529   440  520   932  1460  1154  2398\n",
       "1443  622  688  1185  1689  1401  2283\n",
       "...   ...  ...   ...   ...   ...   ...\n",
       "905   591  689  1132  1652  1398  2279\n",
       "1791  368  471   987  1446   883  2279\n",
       "1096  370  478   884  1478   980  2234\n",
       "235   380  410   860  1416   936  2215\n",
       "1061  527  638  1111  1586  1289  2080\n",
       "\n",
       "[1291 rows x 6 columns]"
      ]
     },
     "execution_count": 7,
     "metadata": {},
     "output_type": "execute_result"
    }
   ],
   "source": [
    "X_train"
   ]
  },
  {
   "cell_type": "code",
   "execution_count": 8,
   "id": "authorized-assets",
   "metadata": {
    "execution": {
     "iopub.execute_input": "2021-04-02T22:12:50.605263Z",
     "iopub.status.busy": "2021-04-02T22:12:50.604229Z",
     "iopub.status.idle": "2021-04-02T22:12:50.608289Z",
     "shell.execute_reply": "2021-04-02T22:12:50.608813Z"
    },
    "papermill": {
     "duration": 0.024917,
     "end_time": "2021-04-02T22:12:50.609009",
     "exception": false,
     "start_time": "2021-04-02T22:12:50.584092",
     "status": "completed"
    },
    "tags": []
   },
   "outputs": [
    {
     "data": {
      "text/plain": [
       "1695    2\n",
       "427     4\n",
       "289     2\n",
       "529     1\n",
       "1443    4\n",
       "       ..\n",
       "905     4\n",
       "1791    1\n",
       "1096    1\n",
       "235     1\n",
       "1061    2\n",
       "Name: CO2, Length: 1291, dtype: int64"
      ]
     },
     "execution_count": 8,
     "metadata": {},
     "output_type": "execute_result"
    }
   ],
   "source": [
    "y_train"
   ]
  },
  {
   "cell_type": "markdown",
   "id": "attached-snake",
   "metadata": {
    "papermill": {
     "duration": 0.013741,
     "end_time": "2021-04-02T22:12:50.636746",
     "exception": false,
     "start_time": "2021-04-02T22:12:50.623005",
     "status": "completed"
    },
    "tags": []
   },
   "source": [
    "# Training"
   ]
  },
  {
   "cell_type": "code",
   "execution_count": 9,
   "id": "joint-tokyo",
   "metadata": {
    "execution": {
     "iopub.execute_input": "2021-04-02T22:12:50.668512Z",
     "iopub.status.busy": "2021-04-02T22:12:50.667545Z",
     "iopub.status.idle": "2021-04-02T22:12:50.988089Z",
     "shell.execute_reply": "2021-04-02T22:12:50.987495Z"
    },
    "papermill": {
     "duration": 0.33755,
     "end_time": "2021-04-02T22:12:50.988231",
     "exception": false,
     "start_time": "2021-04-02T22:12:50.650681",
     "status": "completed"
    },
    "tags": []
   },
   "outputs": [
    {
     "data": {
      "text/plain": [
       "RandomForestClassifier(random_state=1)"
      ]
     },
     "execution_count": 9,
     "metadata": {},
     "output_type": "execute_result"
    }
   ],
   "source": [
    "model = RandomForestClassifier(random_state=1)\n",
    "model.fit(X_train, y_train)"
   ]
  },
  {
   "cell_type": "code",
   "execution_count": 10,
   "id": "acquired-defendant",
   "metadata": {
    "execution": {
     "iopub.execute_input": "2021-04-02T22:12:51.020996Z",
     "iopub.status.busy": "2021-04-02T22:12:51.020225Z",
     "iopub.status.idle": "2021-04-02T22:12:51.047874Z",
     "shell.execute_reply": "2021-04-02T22:12:51.047226Z"
    },
    "papermill": {
     "duration": 0.045171,
     "end_time": "2021-04-02T22:12:51.048056",
     "exception": false,
     "start_time": "2021-04-02T22:12:51.002885",
     "status": "completed"
    },
    "tags": []
   },
   "outputs": [
    {
     "name": "stdout",
     "output_type": "stream",
     "text": [
      "Accuracy: 94.40%\n"
     ]
    }
   ],
   "source": [
    "acc = model.score(X_test, y_test)\n",
    "print(\"Accuracy: {:.2f}%\".format(acc * 100))"
   ]
  },
  {
   "cell_type": "markdown",
   "id": "realistic-namibia",
   "metadata": {
    "papermill": {
     "duration": 0.015699,
     "end_time": "2021-04-02T22:12:51.078621",
     "exception": false,
     "start_time": "2021-04-02T22:12:51.062922",
     "status": "completed"
    },
    "tags": []
   },
   "source": [
    "# Feature Impact With SHAP Values"
   ]
  },
  {
   "cell_type": "code",
   "execution_count": 11,
   "id": "homeless-psychiatry",
   "metadata": {
    "execution": {
     "iopub.execute_input": "2021-04-02T22:12:51.116132Z",
     "iopub.status.busy": "2021-04-02T22:12:51.114892Z",
     "iopub.status.idle": "2021-04-02T22:12:52.617488Z",
     "shell.execute_reply": "2021-04-02T22:12:52.616928Z"
    },
    "papermill": {
     "duration": 1.523668,
     "end_time": "2021-04-02T22:12:52.617625",
     "exception": false,
     "start_time": "2021-04-02T22:12:51.093957",
     "status": "completed"
    },
    "tags": []
   },
   "outputs": [
    {
     "data": {
      "image/png": "[encoded data removed]",
      "text/plain": [
       "<Figure size 576x280.8 with 1 Axes>"
      ]
     },
     "metadata": {
      "needs_background": "light"
     },
     "output_type": "display_data"
    }
   ],
   "source": [
    "explainer = shap.TreeExplainer(model)\n",
    "shap_values = explainer.shap_values(X_test)\n",
    "shap.summary_plot(shap_values, X_test, class_names=model.classes_)"
   ]
  },
  {
   "cell_type": "markdown",
   "id": "brave-magnitude",
   "metadata": {
    "papermill": {
     "duration": 0.015745,
     "end_time": "2021-04-02T22:12:52.649309",
     "exception": false,
     "start_time": "2021-04-02T22:12:52.633564",
     "status": "completed"
    },
    "tags": []
   },
   "source": [
    "# Data Every Day  \n",
    "\n",
    "This notebook is featured on Data Every Day, a YouTube series where I train models on a new dataset each day.  \n",
    "\n",
    "***\n",
    "\n",
    "Check it out!  \n",
    "https://youtu.be/LMdflMIYjQs"
   ]
  }
 ],
 "metadata": {
  "kernelspec": {
   "display_name": "Python 3 (ipykernel)",
   "language": "python",
   "name": "python3"
  },
  "language_info": {
   "codemirror_mode": {
    "name": "ipython",
    "version": 3
   },
   "file_extension": ".py",
   "mimetype": "text/x-python",
   "name": "python",
   "nbconvert_exporter": "python",
   "pygments_lexer": "ipython3",
   "version": "3.11.7"
  },
  "papermill": {
   "default_parameters": {},
   "duration": 20.705724,
   "end_time": "2021-04-02T22:12:53.978147",
   "environment_variables": {},
   "exception": null,
   "input_path": "__notebook__.ipynb",
   "output_path": "__notebook__.ipynb",
   "parameters": {},
   "start_time": "2021-04-02T22:12:33.272423",
   "version": "2.3.2"
  }
 },
 "nbformat": 4,
 "nbformat_minor": 5
}
